{
 "cells": [
  {
   "cell_type": "markdown",
   "metadata": {},
   "source": [
    "# Basic string operations"
   ]
  },
  {
   "cell_type": "markdown",
   "metadata": {},
   "source": [
    "# Basic genom"
   ]
  },
  {
   "cell_type": "code",
   "execution_count": 1,
   "metadata": {},
   "outputs": [
    {
     "data": {
      "text/plain": [
       "'GCAT'"
      ]
     },
     "execution_count": 1,
     "metadata": {},
     "output_type": "execute_result"
    }
   ],
   "source": [
    "def reverse_complement(chain):\n",
    "    complement={\"A\": \"T\",\n",
    "                \"T\": \"A\",\n",
    "                \"C\": \"G\",\n",
    "                \"G\": \"C\"}\n",
    "    rev_chain_complement = \"\"\n",
    "    for base in chain:\n",
    "        rev_chain_complement = complement[base] + rev_chain_complement\n",
    "    return rev_chain_complement\n",
    "\n",
    "chain = \"ATGC\"\n",
    "reverse_complement(chain)"
   ]
  },
  {
   "cell_type": "code",
   "execution_count": 2,
   "metadata": {},
   "outputs": [
    {
     "name": "stdout",
     "output_type": "stream",
     "text": [
      "--2018-02-21 12:56:49--  https://d28rh4a8wq0iu5.cloudfront.net/ads1/data/lambda_virus.fa\n",
      "Resolving d28rh4a8wq0iu5.cloudfront.net (d28rh4a8wq0iu5.cloudfront.net)... 13.32.16.145, 13.32.16.127, 13.32.16.124, ...\n",
      "Connecting to d28rh4a8wq0iu5.cloudfront.net (d28rh4a8wq0iu5.cloudfront.net)|13.32.16.145|:443... connected.\n",
      "HTTP request sent, awaiting response... 200 OK\n",
      "Length: 49270 (48K) [application/octet-stream]\n",
      "Saving to: ‘lambda_virus.fa.1’\n",
      "\n",
      "lambda_virus.fa.1   100%[===================>]  48,12K  --.-KB/s    in 0,09s   \n",
      "\n",
      "2018-02-21 12:56:51 (542 KB/s) - ‘lambda_virus.fa.1’ saved [49270/49270]\n",
      "\n"
     ]
    }
   ],
   "source": [
    "!wget https://d28rh4a8wq0iu5.cloudfront.net/ads1/data/lambda_virus.fa"
   ]
  },
  {
   "cell_type": "code",
   "execution_count": 3,
   "metadata": {},
   "outputs": [
    {
     "data": {
      "text/plain": [
       "'GGGCGGCGACCTCGCGGGTTTTCGCTATTTATGAAAATTTTCCGGTTTAAGGCGTTTCCGTTCTTCTTCGTCATAACTTAATGTTTTTATTTAAAATACC'"
      ]
     },
     "execution_count": 3,
     "metadata": {},
     "output_type": "execute_result"
    }
   ],
   "source": [
    "def read_genome(filename):\n",
    "    genome = \"\"\n",
    "    with open(filename) as file:\n",
    "        for line in file:\n",
    "            if not line[0] == \">\":\n",
    "                genome += line.rstrip()\n",
    "    return genome\n",
    "\n",
    "lambda_virus = read_genome(\"lambda_virus.fa\")\n",
    "lambda_virus[:100]"
   ]
  },
  {
   "cell_type": "code",
   "execution_count": 5,
   "metadata": {},
   "outputs": [
    {
     "data": {
      "text/plain": [
       "[40]"
      ]
     },
     "execution_count": 5,
     "metadata": {},
     "output_type": "execute_result"
    }
   ],
   "source": [
    "def naive(word, text):\n",
    "    assert len(word) <= len(text)\n",
    "    occurences = []\n",
    "    for i in range(0,len(text)-len(word)+1):\n",
    "        match = True\n",
    "        for j in range(0, len(word)):\n",
    "            if not text[i+j] == word[j]:\n",
    "                match = False\n",
    "                break\n",
    "        if match:\n",
    "            occurences.append(i)\n",
    "    return occurences\n",
    "\n",
    "text = \"There would have been a time for such a word\"\n",
    "word = \"word\"\n",
    "naive(word, text)"
   ]
  }
 ],
 "metadata": {
  "kernelspec": {
   "display_name": "Python 3",
   "language": "python",
   "name": "python3"
  },
  "language_info": {
   "codemirror_mode": {
    "name": "ipython",
    "version": 3
   },
   "file_extension": ".py",
   "mimetype": "text/x-python",
   "name": "python",
   "nbconvert_exporter": "python",
   "pygments_lexer": "ipython3",
   "version": "3.5.2"
  }
 },
 "nbformat": 4,
 "nbformat_minor": 2
}
