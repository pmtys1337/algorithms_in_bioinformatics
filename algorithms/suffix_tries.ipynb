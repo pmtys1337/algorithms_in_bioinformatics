{
 "cells": [
  {
   "cell_type": "markdown",
   "metadata": {},
   "source": [
    "# Tries and suffix tries"
   ]
  },
  {
   "cell_type": "markdown",
   "metadata": {},
   "source": [
    "## TODO: overview and pics\n",
    "### algorithm steps"
   ]
  },
  {
   "cell_type": "code",
   "execution_count": 1,
   "metadata": {},
   "outputs": [],
   "source": [
    "class SuffixTrie(object):\n",
    "    \"\"\" Encapsulates a suffix trie of a provided string t \"\"\"\n",
    "    \n",
    "    def __init__(self, t):\n",
    "        \"\"\" Make suffix trie from t \"\"\"\n",
    "        t += '$'  # terminator symbol\n",
    "        self.root = {}\n",
    "        for i in range(len(t)):  # for each suffix\n",
    "            cur = self.root\n",
    "            for c in t[i:]:  # for each character in i'th suffix\n",
    "                if c not in cur:\n",
    "                    cur[c] = {}  # add outgoing edge if necessary\n",
    "                cur = cur[c]\n",
    "    \n",
    "    def follow_path(self, s):\n",
    "        \"\"\" Follow path given by characters of s.  Return node at\n",
    "            end of path, or None if we fall off. \"\"\"\n",
    "        cur = self.root\n",
    "        for c in s:\n",
    "            if c not in cur:\n",
    "                return None  # no outgoing edge on next character\n",
    "            cur = cur[c]  # descend one level\n",
    "        return cur\n",
    "    \n",
    "    def has_substring(self, s):\n",
    "        \"\"\" Return true if s appears as a substring of t \"\"\"\n",
    "        return self.follow_path(s) is not None\n",
    "    \n",
    "    def has_suffix(self, s):\n",
    "        \"\"\" Return true if s is a suffix of t \"\"\"\n",
    "        node = self.follow_path(s)\n",
    "        return node is not None and '$' in node\n",
    "    \n",
    "    #maybe unnecessary.. :D look for module for graph visualization\n",
    "    \n",
    "    def to_dot(self):\n",
    "        \"\"\" Return dot representation of trie to make a picture \"\"\"\n",
    "        lines = []\n",
    "        def _to_dot_helper(node, parid):\n",
    "            childid = parid\n",
    "            for c, child in node.items():\n",
    "                lines.append('  %d -> %d [ label=\"%s\" ];' % (parid, childid+1, c))\n",
    "                childid = _to_dot_helper(child, childid+1)\n",
    "            return childid\n",
    "        lines.append('digraph \"Suffix trie\" {')\n",
    "        lines.append('  node [shape=circle label=\"\"];')\n",
    "        _to_dot_helper(self.root, 0)\n",
    "        lines.append('}')\n",
    "        return '\\n'.join(lines) + '\\n'"
   ]
  },
  {
   "cell_type": "code",
   "execution_count": 2,
   "metadata": {},
   "outputs": [],
   "source": [
    "strie = SuffixTrie(\"abaaba\")"
   ]
  },
  {
   "cell_type": "code",
   "execution_count": 3,
   "metadata": {},
   "outputs": [
    {
     "data": {
      "text/plain": [
       "True"
      ]
     },
     "execution_count": 3,
     "metadata": {},
     "output_type": "execute_result"
    }
   ],
   "source": [
    "strie.has_substring(\"aab\")"
   ]
  },
  {
   "cell_type": "code",
   "execution_count": 9,
   "metadata": {},
   "outputs": [
    {
     "data": {
      "text/plain": [
       "True"
      ]
     },
     "execution_count": 9,
     "metadata": {},
     "output_type": "execute_result"
    }
   ],
   "source": [
    "strie.has_suffix(\"abaaba\")"
   ]
  },
  {
   "cell_type": "code",
   "execution_count": null,
   "metadata": {},
   "outputs": [],
   "source": []
  }
 ],
 "metadata": {
  "kernelspec": {
   "display_name": "Python 3",
   "language": "python",
   "name": "python3"
  },
  "language_info": {
   "codemirror_mode": {
    "name": "ipython",
    "version": 3
   },
   "file_extension": ".py",
   "mimetype": "text/x-python",
   "name": "python",
   "nbconvert_exporter": "python",
   "pygments_lexer": "ipython3",
   "version": "3.5.2"
  }
 },
 "nbformat": 4,
 "nbformat_minor": 2
}
