{
 "cells": [
  {
   "cell_type": "markdown",
   "metadata": {},
   "source": [
    "# Naive indexing\n",
    "## Need desc"
   ]
  },
  {
   "cell_type": "code",
   "execution_count": 7,
   "metadata": {},
   "outputs": [],
   "source": [
    "def naive_build_sa(text):\n",
    "    satups = sorted([(text[i:], i) for i in range(0,len(text))])\n",
    "    return list(map(lambda x: x[1], satups))"
   ]
  },
  {
   "cell_type": "code",
   "execution_count": 8,
   "metadata": {},
   "outputs": [
    {
     "data": {
      "text/plain": [
       "[6, 5, 2, 3, 0, 4, 1]"
      ]
     },
     "execution_count": 8,
     "metadata": {},
     "output_type": "execute_result"
    }
   ],
   "source": [
    "naive_build_sa(\"abaaba$\")"
   ]
  },
  {
   "cell_type": "code",
   "execution_count": 11,
   "metadata": {},
   "outputs": [],
   "source": [
    "def bin_search_sa(text, sa, p):\n",
    "    assert text[-1] == \"$\"\n",
    "    assert len(text) == len(sa)\n",
    "    if len(text) == 1: return 1\n",
    "    l,r = 0,len(sa)\n",
    "    while True:\n",
    "        c = (l+r)//2\n",
    "        plt = True\n",
    "        i = 0\n",
    "        while i < len(p) and sa[c]+i < len(text):\n",
    "            if p[i] < text[sa[c]+i]:\n",
    "                break\n",
    "            elif p[i] > text[sa[c]+i]:\n",
    "                plt = False\n",
    "                break\n",
    "            i+=1\n",
    "        if plt:\n",
    "            if c == l+1: return c\n",
    "            r = c\n",
    "        else:\n",
    "            if c==r-1: return r\n",
    "            l = c"
   ]
  },
  {
   "cell_type": "code",
   "execution_count": 12,
   "metadata": {},
   "outputs": [
    {
     "data": {
      "text/plain": [
       "3"
      ]
     },
     "execution_count": 12,
     "metadata": {},
     "output_type": "execute_result"
    }
   ],
   "source": [
    "text = \"abaaba$\"\n",
    "sa = naive_build_sa(text)\n",
    "bin_search_sa(text, sa, \"aba\")"
   ]
  },
  {
   "cell_type": "markdown",
   "metadata": {},
   "source": [
    "# Burrows-Wheeler Transform\n",
    "## Algorithm overview"
   ]
  },
  {
   "cell_type": "code",
   "execution_count": 15,
   "metadata": {},
   "outputs": [],
   "source": [
    "def bwt_from_sa(text):\n",
    "    bw = []\n",
    "    for si in naive_build_sa(text):\n",
    "        if si == 0:\n",
    "            bw.append(\"$\")\n",
    "        else:\n",
    "            bw.append(text[si-1])\n",
    "    return \"\".join(bw)"
   ]
  },
  {
   "cell_type": "code",
   "execution_count": 16,
   "metadata": {},
   "outputs": [
    {
     "data": {
      "text/plain": [
       "'abba$aa'"
      ]
     },
     "execution_count": 16,
     "metadata": {},
     "output_type": "execute_result"
    }
   ],
   "source": [
    "bwt_from_sa(\"abaaba$\")"
   ]
  },
  {
   "cell_type": "code",
   "execution_count": 18,
   "metadata": {},
   "outputs": [],
   "source": [
    "def b_rank(bw):\n",
    "    tots = {}\n",
    "    ranks = []\n",
    "    for c in bw:\n",
    "        if c not in tots:\n",
    "            tots[c] = 0\n",
    "        ranks.append(tots[c])\n",
    "        tots[c] += 1\n",
    "    return ranks, tots"
   ]
  },
  {
   "cell_type": "code",
   "execution_count": 19,
   "metadata": {},
   "outputs": [
    {
     "name": "stdout",
     "output_type": "stream",
     "text": [
      "abba$aa [0, 0, 1, 1, 0, 2, 3] {'a': 4, '$': 1, 'b': 2}\n"
     ]
    }
   ],
   "source": [
    "text = \"abaaba$\"\n",
    "b = bwt_from_sa(text)\n",
    "\n",
    "ranks, tots = b_rank(b)\n",
    "print(b, ranks, tots)"
   ]
  },
  {
   "cell_type": "code",
   "execution_count": 22,
   "metadata": {},
   "outputs": [],
   "source": [
    "def first_col(tots):\n",
    "    first = {}\n",
    "    totc = 0\n",
    "    for c, count in sorted(tots.items()):\n",
    "        first[c] = (totc, totc+count)\n",
    "        totc += count\n",
    "    return first"
   ]
  },
  {
   "cell_type": "code",
   "execution_count": 23,
   "metadata": {},
   "outputs": [
    {
     "data": {
      "text/plain": [
       "{'$': (0, 1), 'a': (1, 5), 'b': (5, 7)}"
      ]
     },
     "execution_count": 23,
     "metadata": {},
     "output_type": "execute_result"
    }
   ],
   "source": [
    "first_col(tots)"
   ]
  },
  {
   "cell_type": "code",
   "execution_count": 25,
   "metadata": {},
   "outputs": [],
   "source": [
    "def bwt_reverse(bw):\n",
    "    ranks, tots = b_rank(bw)\n",
    "    first = first_col(tots)\n",
    "    rowi = 0\n",
    "    text = \"$\"\n",
    "    while bw[rowi] != \"$\":\n",
    "        c = bw[rowi]\n",
    "        text = c + text\n",
    "        rowi = first[c][0]+ranks[rowi]\n",
    "    return text"
   ]
  },
  {
   "cell_type": "code",
   "execution_count": 26,
   "metadata": {},
   "outputs": [
    {
     "data": {
      "text/plain": [
       "'abaaba$'"
      ]
     },
     "execution_count": 26,
     "metadata": {},
     "output_type": "execute_result"
    }
   ],
   "source": [
    "bwt_reverse(bwt_from_sa(\"abaaba$\"))"
   ]
  },
  {
   "cell_type": "markdown",
   "metadata": {},
   "source": [
    "# To be continued..\n",
    "## Need expl and desc"
   ]
  }
 ],
 "metadata": {
  "kernelspec": {
   "display_name": "Python 3",
   "language": "python",
   "name": "python3"
  },
  "language_info": {
   "codemirror_mode": {
    "name": "ipython",
    "version": 3
   },
   "file_extension": ".py",
   "mimetype": "text/x-python",
   "name": "python",
   "nbconvert_exporter": "python",
   "pygments_lexer": "ipython3",
   "version": "3.5.2"
  }
 },
 "nbformat": 4,
 "nbformat_minor": 2
}
